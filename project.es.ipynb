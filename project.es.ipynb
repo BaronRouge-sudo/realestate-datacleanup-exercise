{
 "cells": [
  {
   "attachments": {},
   "cell_type": "markdown",
   "id": "innocent-university",
   "metadata": {},
   "source": [
    "# Limpieza de bienes raíces\n",
    "\n",
    "Este es un conjunto de datos (dataset) reales que fue descargado usando técnicas de web scraping. La data contiene registros de **Fotocasa**, el cual es uno de los sitios más populares de bienes raíces en España. Por favor no hagas esto (web scraping) a no ser que sea para propósitos académicos.\n",
    "\n",
    "El dataset fue descargado hace algunos años por Henry Navarro y en ningún caso se obtuvo beneficio económico de ello.\n",
    "\n",
    "Contiene miles de datos de casas reales publicadas en la web www.fotocasa.com. Tu objetivo es extraer tanta información como sea posible con el conocimiento que tienes hasta ahora de ciencia de datos, por ejemplo ¿cuál es la casa más cara en todo el dataset?\n",
    "\n",
    "Empecemos precisamente con esa pregunta... ¡Buena suerte!"
   ]
  },
  {
   "attachments": {},
   "cell_type": "markdown",
   "id": "multiple-glass",
   "metadata": {},
   "source": [
    "#### Ejercicio 00. Lee el dataset assets/real_estate.csv e intenta visualizar la tabla (★☆☆)"
   ]
  },
  {
   "cell_type": "code",
   "execution_count": 1,
   "id": "frank-heath",
   "metadata": {},
   "outputs": [
    {
     "data": {
      "text/html": [
       "<div>\n",
       "<style scoped>\n",
       "    .dataframe tbody tr th:only-of-type {\n",
       "        vertical-align: middle;\n",
       "    }\n",
       "\n",
       "    .dataframe tbody tr th {\n",
       "        vertical-align: top;\n",
       "    }\n",
       "\n",
       "    .dataframe thead th {\n",
       "        text-align: right;\n",
       "    }\n",
       "</style>\n",
       "<table border=\"1\" class=\"dataframe\">\n",
       "  <thead>\n",
       "    <tr style=\"text-align: right;\">\n",
       "      <th></th>\n",
       "      <th>Unnamed: 0</th>\n",
       "      <th>id_realEstates</th>\n",
       "      <th>isNew</th>\n",
       "      <th>realEstate_name</th>\n",
       "      <th>phone_realEstate</th>\n",
       "      <th>url_inmueble</th>\n",
       "      <th>rooms</th>\n",
       "      <th>bathrooms</th>\n",
       "      <th>surface</th>\n",
       "      <th>price</th>\n",
       "      <th>...</th>\n",
       "      <th>level4Id</th>\n",
       "      <th>level5Id</th>\n",
       "      <th>level6Id</th>\n",
       "      <th>level7Id</th>\n",
       "      <th>level8Id</th>\n",
       "      <th>accuracy</th>\n",
       "      <th>latitude</th>\n",
       "      <th>longitude</th>\n",
       "      <th>zipCode</th>\n",
       "      <th>customZone</th>\n",
       "    </tr>\n",
       "  </thead>\n",
       "  <tbody>\n",
       "    <tr>\n",
       "      <th>0</th>\n",
       "      <td>1</td>\n",
       "      <td>153771986</td>\n",
       "      <td>False</td>\n",
       "      <td>ferrari 57 inmobiliaria</td>\n",
       "      <td>912177526.0</td>\n",
       "      <td>https://www.fotocasa.es/es/comprar/vivienda/ma...</td>\n",
       "      <td>3.0</td>\n",
       "      <td>2.0</td>\n",
       "      <td>103.0</td>\n",
       "      <td>195000</td>\n",
       "      <td>...</td>\n",
       "      <td>0</td>\n",
       "      <td>0</td>\n",
       "      <td>0</td>\n",
       "      <td>0</td>\n",
       "      <td>0</td>\n",
       "      <td>0</td>\n",
       "      <td>40,2948276786438</td>\n",
       "      <td>-3,44402412135624</td>\n",
       "      <td>NaN</td>\n",
       "      <td>NaN</td>\n",
       "    </tr>\n",
       "    <tr>\n",
       "      <th>1</th>\n",
       "      <td>2</td>\n",
       "      <td>153867863</td>\n",
       "      <td>False</td>\n",
       "      <td>tecnocasa fuenlabrada ferrocarril</td>\n",
       "      <td>916358736.0</td>\n",
       "      <td>https://www.fotocasa.es/es/comprar/vivienda/ma...</td>\n",
       "      <td>3.0</td>\n",
       "      <td>1.0</td>\n",
       "      <td>NaN</td>\n",
       "      <td>89000</td>\n",
       "      <td>...</td>\n",
       "      <td>0</td>\n",
       "      <td>0</td>\n",
       "      <td>0</td>\n",
       "      <td>0</td>\n",
       "      <td>0</td>\n",
       "      <td>1</td>\n",
       "      <td>40,28674</td>\n",
       "      <td>-3,79351</td>\n",
       "      <td>NaN</td>\n",
       "      <td>NaN</td>\n",
       "    </tr>\n",
       "    <tr>\n",
       "      <th>2</th>\n",
       "      <td>3</td>\n",
       "      <td>153430440</td>\n",
       "      <td>False</td>\n",
       "      <td>look find boadilla</td>\n",
       "      <td>916350408.0</td>\n",
       "      <td>https://www.fotocasa.es/es/comprar/vivienda/ma...</td>\n",
       "      <td>2.0</td>\n",
       "      <td>2.0</td>\n",
       "      <td>99.0</td>\n",
       "      <td>390000</td>\n",
       "      <td>...</td>\n",
       "      <td>0</td>\n",
       "      <td>0</td>\n",
       "      <td>0</td>\n",
       "      <td>0</td>\n",
       "      <td>0</td>\n",
       "      <td>0</td>\n",
       "      <td>40,4115646786438</td>\n",
       "      <td>-3,90662252135624</td>\n",
       "      <td>NaN</td>\n",
       "      <td>NaN</td>\n",
       "    </tr>\n",
       "    <tr>\n",
       "      <th>3</th>\n",
       "      <td>4</td>\n",
       "      <td>152776331</td>\n",
       "      <td>False</td>\n",
       "      <td>tecnocasa fuenlabrada ferrocarril</td>\n",
       "      <td>916358736.0</td>\n",
       "      <td>https://www.fotocasa.es/es/comprar/vivienda/ma...</td>\n",
       "      <td>3.0</td>\n",
       "      <td>1.0</td>\n",
       "      <td>86.0</td>\n",
       "      <td>89000</td>\n",
       "      <td>...</td>\n",
       "      <td>0</td>\n",
       "      <td>0</td>\n",
       "      <td>0</td>\n",
       "      <td>0</td>\n",
       "      <td>0</td>\n",
       "      <td>0</td>\n",
       "      <td>40,2853785786438</td>\n",
       "      <td>-3,79508142135624</td>\n",
       "      <td>NaN</td>\n",
       "      <td>NaN</td>\n",
       "    </tr>\n",
       "    <tr>\n",
       "      <th>4</th>\n",
       "      <td>5</td>\n",
       "      <td>153180188</td>\n",
       "      <td>False</td>\n",
       "      <td>ferrari 57 inmobiliaria</td>\n",
       "      <td>912177526.0</td>\n",
       "      <td>https://www.fotocasa.es/es/comprar/vivienda/ma...</td>\n",
       "      <td>2.0</td>\n",
       "      <td>2.0</td>\n",
       "      <td>106.0</td>\n",
       "      <td>172000</td>\n",
       "      <td>...</td>\n",
       "      <td>0</td>\n",
       "      <td>0</td>\n",
       "      <td>0</td>\n",
       "      <td>0</td>\n",
       "      <td>0</td>\n",
       "      <td>0</td>\n",
       "      <td>40,2998774864376</td>\n",
       "      <td>-3,45226301356237</td>\n",
       "      <td>NaN</td>\n",
       "      <td>NaN</td>\n",
       "    </tr>\n",
       "    <tr>\n",
       "      <th>...</th>\n",
       "      <td>...</td>\n",
       "      <td>...</td>\n",
       "      <td>...</td>\n",
       "      <td>...</td>\n",
       "      <td>...</td>\n",
       "      <td>...</td>\n",
       "      <td>...</td>\n",
       "      <td>...</td>\n",
       "      <td>...</td>\n",
       "      <td>...</td>\n",
       "      <td>...</td>\n",
       "      <td>...</td>\n",
       "      <td>...</td>\n",
       "      <td>...</td>\n",
       "      <td>...</td>\n",
       "      <td>...</td>\n",
       "      <td>...</td>\n",
       "      <td>...</td>\n",
       "      <td>...</td>\n",
       "      <td>...</td>\n",
       "      <td>...</td>\n",
       "    </tr>\n",
       "    <tr>\n",
       "      <th>15330</th>\n",
       "      <td>15331</td>\n",
       "      <td>153901377</td>\n",
       "      <td>False</td>\n",
       "      <td>infocasa consulting</td>\n",
       "      <td>911360461.0</td>\n",
       "      <td>https://www.fotocasa.es/es/comprar/vivienda/ma...</td>\n",
       "      <td>2.0</td>\n",
       "      <td>1.0</td>\n",
       "      <td>96.0</td>\n",
       "      <td>259470</td>\n",
       "      <td>...</td>\n",
       "      <td>0</td>\n",
       "      <td>0</td>\n",
       "      <td>0</td>\n",
       "      <td>0</td>\n",
       "      <td>0</td>\n",
       "      <td>0</td>\n",
       "      <td>40,45416</td>\n",
       "      <td>-3,70286</td>\n",
       "      <td>NaN</td>\n",
       "      <td>NaN</td>\n",
       "    </tr>\n",
       "    <tr>\n",
       "      <th>15331</th>\n",
       "      <td>15332</td>\n",
       "      <td>150394373</td>\n",
       "      <td>False</td>\n",
       "      <td>inmobiliaria pulpon</td>\n",
       "      <td>912788039.0</td>\n",
       "      <td>https://www.fotocasa.es/es/comprar/vivienda/ma...</td>\n",
       "      <td>3.0</td>\n",
       "      <td>1.0</td>\n",
       "      <td>150.0</td>\n",
       "      <td>165000</td>\n",
       "      <td>...</td>\n",
       "      <td>0</td>\n",
       "      <td>0</td>\n",
       "      <td>0</td>\n",
       "      <td>0</td>\n",
       "      <td>0</td>\n",
       "      <td>0</td>\n",
       "      <td>40,36652</td>\n",
       "      <td>-3,48951</td>\n",
       "      <td>NaN</td>\n",
       "      <td>NaN</td>\n",
       "    </tr>\n",
       "    <tr>\n",
       "      <th>15332</th>\n",
       "      <td>15333</td>\n",
       "      <td>153901397</td>\n",
       "      <td>False</td>\n",
       "      <td>tecnocasa torrelodones</td>\n",
       "      <td>912780348.0</td>\n",
       "      <td>https://www.fotocasa.es/es/comprar/vivienda/ma...</td>\n",
       "      <td>4.0</td>\n",
       "      <td>2.0</td>\n",
       "      <td>175.0</td>\n",
       "      <td>495000</td>\n",
       "      <td>...</td>\n",
       "      <td>0</td>\n",
       "      <td>0</td>\n",
       "      <td>0</td>\n",
       "      <td>0</td>\n",
       "      <td>0</td>\n",
       "      <td>0</td>\n",
       "      <td>40,57444</td>\n",
       "      <td>-3,92124</td>\n",
       "      <td>NaN</td>\n",
       "      <td>NaN</td>\n",
       "    </tr>\n",
       "    <tr>\n",
       "      <th>15333</th>\n",
       "      <td>15334</td>\n",
       "      <td>152607440</td>\n",
       "      <td>False</td>\n",
       "      <td>inmobiliaria pulpon</td>\n",
       "      <td>912788039.0</td>\n",
       "      <td>https://www.fotocasa.es/es/comprar/vivienda/ma...</td>\n",
       "      <td>3.0</td>\n",
       "      <td>2.0</td>\n",
       "      <td>101.0</td>\n",
       "      <td>195000</td>\n",
       "      <td>...</td>\n",
       "      <td>0</td>\n",
       "      <td>0</td>\n",
       "      <td>0</td>\n",
       "      <td>0</td>\n",
       "      <td>0</td>\n",
       "      <td>0</td>\n",
       "      <td>40,36967</td>\n",
       "      <td>-3,48105</td>\n",
       "      <td>NaN</td>\n",
       "      <td>NaN</td>\n",
       "    </tr>\n",
       "    <tr>\n",
       "      <th>15334</th>\n",
       "      <td>15335</td>\n",
       "      <td>153901356</td>\n",
       "      <td>False</td>\n",
       "      <td>infocasa consulting</td>\n",
       "      <td>911360461.0</td>\n",
       "      <td>https://www.fotocasa.es/es/comprar/vivienda/ma...</td>\n",
       "      <td>3.0</td>\n",
       "      <td>2.0</td>\n",
       "      <td>152.0</td>\n",
       "      <td>765000</td>\n",
       "      <td>...</td>\n",
       "      <td>0</td>\n",
       "      <td>0</td>\n",
       "      <td>0</td>\n",
       "      <td>0</td>\n",
       "      <td>0</td>\n",
       "      <td>0</td>\n",
       "      <td>40,45773</td>\n",
       "      <td>-3,69068</td>\n",
       "      <td>NaN</td>\n",
       "      <td>NaN</td>\n",
       "    </tr>\n",
       "  </tbody>\n",
       "</table>\n",
       "<p>15335 rows × 37 columns</p>\n",
       "</div>"
      ],
      "text/plain": [
       "       Unnamed: 0  id_realEstates  isNew                    realEstate_name  \\\n",
       "0               1       153771986  False            ferrari 57 inmobiliaria   \n",
       "1               2       153867863  False  tecnocasa fuenlabrada ferrocarril   \n",
       "2               3       153430440  False                 look find boadilla   \n",
       "3               4       152776331  False  tecnocasa fuenlabrada ferrocarril   \n",
       "4               5       153180188  False            ferrari 57 inmobiliaria   \n",
       "...           ...             ...    ...                                ...   \n",
       "15330       15331       153901377  False                infocasa consulting   \n",
       "15331       15332       150394373  False                inmobiliaria pulpon   \n",
       "15332       15333       153901397  False             tecnocasa torrelodones   \n",
       "15333       15334       152607440  False                inmobiliaria pulpon   \n",
       "15334       15335       153901356  False                infocasa consulting   \n",
       "\n",
       "       phone_realEstate                                       url_inmueble  \\\n",
       "0           912177526.0  https://www.fotocasa.es/es/comprar/vivienda/ma...   \n",
       "1           916358736.0  https://www.fotocasa.es/es/comprar/vivienda/ma...   \n",
       "2           916350408.0  https://www.fotocasa.es/es/comprar/vivienda/ma...   \n",
       "3           916358736.0  https://www.fotocasa.es/es/comprar/vivienda/ma...   \n",
       "4           912177526.0  https://www.fotocasa.es/es/comprar/vivienda/ma...   \n",
       "...                 ...                                                ...   \n",
       "15330       911360461.0  https://www.fotocasa.es/es/comprar/vivienda/ma...   \n",
       "15331       912788039.0  https://www.fotocasa.es/es/comprar/vivienda/ma...   \n",
       "15332       912780348.0  https://www.fotocasa.es/es/comprar/vivienda/ma...   \n",
       "15333       912788039.0  https://www.fotocasa.es/es/comprar/vivienda/ma...   \n",
       "15334       911360461.0  https://www.fotocasa.es/es/comprar/vivienda/ma...   \n",
       "\n",
       "       rooms  bathrooms  surface   price  ... level4Id level5Id level6Id  \\\n",
       "0        3.0        2.0    103.0  195000  ...        0        0        0   \n",
       "1        3.0        1.0      NaN   89000  ...        0        0        0   \n",
       "2        2.0        2.0     99.0  390000  ...        0        0        0   \n",
       "3        3.0        1.0     86.0   89000  ...        0        0        0   \n",
       "4        2.0        2.0    106.0  172000  ...        0        0        0   \n",
       "...      ...        ...      ...     ...  ...      ...      ...      ...   \n",
       "15330    2.0        1.0     96.0  259470  ...        0        0        0   \n",
       "15331    3.0        1.0    150.0  165000  ...        0        0        0   \n",
       "15332    4.0        2.0    175.0  495000  ...        0        0        0   \n",
       "15333    3.0        2.0    101.0  195000  ...        0        0        0   \n",
       "15334    3.0        2.0    152.0  765000  ...        0        0        0   \n",
       "\n",
       "      level7Id level8Id accuracy          latitude          longitude zipCode  \\\n",
       "0            0        0        0  40,2948276786438  -3,44402412135624     NaN   \n",
       "1            0        0        1          40,28674           -3,79351     NaN   \n",
       "2            0        0        0  40,4115646786438  -3,90662252135624     NaN   \n",
       "3            0        0        0  40,2853785786438  -3,79508142135624     NaN   \n",
       "4            0        0        0  40,2998774864376  -3,45226301356237     NaN   \n",
       "...        ...      ...      ...               ...                ...     ...   \n",
       "15330        0        0        0          40,45416           -3,70286     NaN   \n",
       "15331        0        0        0          40,36652           -3,48951     NaN   \n",
       "15332        0        0        0          40,57444           -3,92124     NaN   \n",
       "15333        0        0        0          40,36967           -3,48105     NaN   \n",
       "15334        0        0        0          40,45773           -3,69068     NaN   \n",
       "\n",
       "      customZone  \n",
       "0            NaN  \n",
       "1            NaN  \n",
       "2            NaN  \n",
       "3            NaN  \n",
       "4            NaN  \n",
       "...          ...  \n",
       "15330        NaN  \n",
       "15331        NaN  \n",
       "15332        NaN  \n",
       "15333        NaN  \n",
       "15334        NaN  \n",
       "\n",
       "[15335 rows x 37 columns]"
      ]
     },
     "execution_count": 1,
     "metadata": {},
     "output_type": "execute_result"
    }
   ],
   "source": [
    "import pandas as pd\n",
    "\n",
    "# Este archivo CSV contiene puntos y comas en lugar de comas como separadores\n",
    "ds = pd.read_csv('assets/real_estate.csv', sep=';')\n",
    "ds"
   ]
  },
  {
   "cell_type": "code",
   "execution_count": 7,
   "id": "e6eb2353",
   "metadata": {},
   "outputs": [
    {
     "data": {
      "text/plain": [
       "Index(['Unnamed: 0', 'id_realEstates', 'isNew', 'realEstate_name',\n",
       "       'phone_realEstate', 'url_inmueble', 'rooms', 'bathrooms', 'surface',\n",
       "       'price', 'date', 'description', 'address', 'country', 'level1',\n",
       "       'level2', 'level3', 'level4', 'level5', 'level6', 'level7', 'level8',\n",
       "       'upperLevel', 'countryId', 'level1Id', 'level2Id', 'level3Id',\n",
       "       'level4Id', 'level5Id', 'level6Id', 'level7Id', 'level8Id', 'accuracy',\n",
       "       'latitude', 'longitude', 'zipCode', 'customZone'],\n",
       "      dtype='object')"
      ]
     },
     "execution_count": 7,
     "metadata": {},
     "output_type": "execute_result"
    }
   ],
   "source": [
    "#BORRAR\n",
    "ds.columns"
   ]
  },
  {
   "attachments": {},
   "cell_type": "markdown",
   "id": "latin-guest",
   "metadata": {},
   "source": [
    "#### Ejercicio 01. ¿Cuál es la casa más cara en todo el dataset? (★☆☆)\n",
    "\n",
    "Imprime la dirección y el precio de la casa seleccionada. Por ejemplo:\n",
    "\n",
    "`La casa con dirección en Calle del Prado, Nº20 es la más cara y su precio es de 5000000 USD`"
   ]
  },
  {
   "cell_type": "code",
   "execution_count": 6,
   "id": "developing-optimum",
   "metadata": {},
   "outputs": [
    {
     "name": "stdout",
     "output_type": "stream",
     "text": [
      "La casa ubicada en El Escorial es la más cara y su precio es de 8500000 EUR\n"
     ]
    }
   ],
   "source": [
    "# TODO\n",
    "\n",
    "max_price_index = ds[\"price\"].idxmax()\n",
    "\n",
    "max_price_info = ds.iloc[max_price_index]\n",
    "\n",
    "print(\"La casa ubicada en {} es la más cara y su precio es de {} EUR\".format(max_price_info[\"address\"], max_price_info[\"price\"]))\n"
   ]
  },
  {
   "attachments": {},
   "cell_type": "markdown",
   "id": "lesser-cosmetic",
   "metadata": {},
   "source": [
    "#### Ejercicio 02. ¿Cuál es la casa más barata del dataset? (★☆☆)\n",
    "\n",
    "Imprime la dirección y el precio de la casa seleccionada. Por ejemplo:\n",
    "\n",
    "`La casa con dirección en Calle Alcalá, Nº58 es la más barata y su precio es de 12000 USD`"
   ]
  },
  {
   "cell_type": "code",
   "execution_count": 10,
   "id": "lovely-oasis",
   "metadata": {},
   "outputs": [
    {
     "name": "stdout",
     "output_type": "stream",
     "text": [
      "La casa ubicada en Parla es la más barata y su precio es de 0 EUR\n"
     ]
    }
   ],
   "source": [
    "\n",
    "min_price_index = ds[\"price\"].idxmin()\n",
    "\n",
    "min_price_info = ds.iloc[min_price_index]\n",
    "\n",
    "print(\"La casa ubicada en {} es la más barata y su precio es de {} EUR\".format(min_price_info[\"address\"], min_price_info[\"price\"]))\n"
   ]
  },
  {
   "attachments": {},
   "cell_type": "markdown",
   "id": "compliant-fellowship",
   "metadata": {},
   "source": [
    "#### Ejercicio 03. ¿Cuál es la casa más grande y la más pequeña del dataset? (★☆☆)\n",
    "\n",
    "Imprime la dirección y el área de las casas seleccionadas. Por ejemplo:\n",
    "\n",
    "`La casa más grande está ubicada en Calle Gran Vía, Nº38 y su superficie es de 5000 metros`\n",
    "\n",
    "`La casa más pequeña está ubicada en Calle Mayor, Nº12 y su superficie es de 200 metros`"
   ]
  },
  {
   "cell_type": "code",
   "execution_count": 11,
   "id": "every-tiffany",
   "metadata": {},
   "outputs": [
    {
     "name": "stdout",
     "output_type": "stream",
     "text": [
      "La casa más grande está ubicada en Sevilla la Nueva y su superficie es de 249000.0 metros\n",
      "La casa más grande está ubicada en Calle Amparo,  Madrid Capital y su superficie es de 15.0 metros\n"
     ]
    }
   ],
   "source": [
    "\n",
    "min_sup_index = ds[\"surface\"].idxmin()\n",
    "max_sup_index = ds[\"surface\"].idxmax()\n",
    "\n",
    "min_sup_info = ds.iloc[min_sup_index]\n",
    "max_sup_info = ds.iloc[max_sup_index]\n",
    "\n",
    "print(\"La casa más grande está ubicada en {} y su superficie es de {} metros\".format(max_sup_info[\"address\"], max_sup_info[\"surface\"]))\n",
    "print(\"La casa más grande está ubicada en {} y su superficie es de {} metros\".format(min_sup_info[\"address\"], min_sup_info[\"surface\"]))"
   ]
  },
  {
   "attachments": {},
   "cell_type": "markdown",
   "id": "danish-spirit",
   "metadata": {},
   "source": [
    "#### Ejercicio 04. ¿Cuantas poblaciones (columna level5) contiene el dataset? (★☆☆)\n",
    "\n",
    "Imprime el nombre de las poblaciones separadas por coma. Por ejemplo:\n",
    "\n",
    "`> print(populations)`\n",
    "\n",
    "`population1, population2, population3, ...`"
   ]
  },
  {
   "cell_type": "code",
   "execution_count": 12,
   "id": "exciting-accreditation",
   "metadata": {},
   "outputs": [
    {
     "name": "stdout",
     "output_type": "stream",
     "text": [
      "Hay un total de 168 poblaciones\n",
      "Arganda del Rey, Fuenlabrada, Boadilla del Monte, Las Rozas de Madrid,  Madrid Capital, Villaviciosa de Odón, Pinto, Valdemoro, Navalcarnero, Pozuelo de Alarcón, Torrejón de Ardoz, Navalagamella, San Sebastián de los Reyes, Rivas-vaciamadrid, Alpedrete, Móstoles, San Fernando de Henares, Coslada, Becerril de la Sierra, Alcalá de Henares, Chinchón, Parla, Alcorcón, El Escorial, Leganés, Pedrezuela, Majadahonda, Villanueva de la Cañada, Villanueva del Pardillo, Torrelodones, Moralzarzal, Mejorada del Campo, Aranjuez, Corpa, Getafe, Velilla de San Antonio, Sevilla la Nueva, San Martín de la Vega, Villalbilla, Collado Villalba, Alcobendas, El Molar (Madrid), Moraleja de Enmedio, Algete, Campo Real, Torrejón de la Calzada, Colmenar Viejo, Valdemorillo, Fuente El Saz de Jarama, Tres Cantos, Arroyomolinos (Madrid), Griñón, Paracuellos de Jarama, Guadarrama, Titulcia, Galapagar, Collado Mediano, Los Molinos, San Lorenzo de El Escorial, Loeches, San Martín de Valdeiglesias, Navas del Rey, Bustarviejo, Manzanares El Real, Carabaña, Casarrubuelos, Cercedilla, Fresnedillas de la Oliva, Valdemaqueda, Robledo de Chavela, Miraflores de la Sierra, Humanes de Madrid, Valdetorres de Jarama, San Agustín del Guadalix, Ciempozuelos, Camarma de Esteruelas, Torres de la Alameda, Talamanca de Jarama, El Atazar, Hoyo de Manzanares, El Boalo - Cerceda – Mataelpino, El Álamo, Valdilecha, Valdeolmos-Alalpardo, Guadalix de la Sierra, Belmonte de Tajo, El Vellón, Brunete, Redueña, Morata de Tajuña, Tielmes, Gargantilla del Lozoya, Meco, Venturada, Quijorna, Cenicientos, Torrejón de Velasco, Navacerrada, Santa María de la Alameda, Orusco de Tajuña, Daganzo de Arriba, Villamanta, Anchuelo, Valdaracete, Ajalvir, Los Santos de la Humosa, Villamanrique de Tajo, Colmenar de Oreja, Villa del Prado, Fuentidueña de Tajo, Colmenar del Arroyo, Valdelaguna, Cubas de la Sagra, Valdeavero, Aldea del Fresno, Ribatejada, Torrelaguna, Batres, Pezuela de las Torres, Colmenarejo, Serranillos del Valle, Cobeña, Soto del Real, El Berrueco, Villanueva de Perales, Fresno de Torote - Serracines, Pozuelo del Rey, Pelayos de la Presa, La Cabrera, Nuevo Baztán, Perales de Tajuña, Villaconejos, Villarejo de Salvanés, Cadalso de los Vidrios, Santorcaz, Madarcos, Garganta de los Montes, Puentes Viejas, Torremocha de Jarama, Valdemanco, Braojos, Lozoyuela-navas-sieteiglesias, Piñuécar-gandullas, Valdepiélagos, Valverde de Alcalá, Villar del Olmo, Villamantilla, Horcajo de la Sierra, Gascones, Zarzalejo, Villavieja del Lozoya, Brea de Tajo, Estremera, Chapinería, Navarredonda, Patones, Ambite, Navalafuente, Lozoya, Canencia, Cabanillas de la Sierra, Buitrago del Lozoya, Fresno de Torote, Robregordo, Pinilla del Valle, Rascafría, La Hiruela, Montejo de la Sierra, "
     ]
    }
   ],
   "source": [
    "poblaciones = ds[\"level5\"].unique()\n",
    "poblaciones_cuenta = ds[\"level5\"].nunique()\n",
    "\n",
    "print(\"Hay un total de {} poblaciones\".format(poblaciones_cuenta))\n",
    "\n",
    "for i in poblaciones:\n",
    "    print(i,end=\", \")"
   ]
  },
  {
   "attachments": {},
   "cell_type": "markdown",
   "id": "crazy-blame",
   "metadata": {},
   "source": [
    "#### Ejercicio 05. ¿El dataset contiene valores no admitidos (NAs)? (★☆☆)\n",
    "\n",
    "Imprima un booleano (`True` o `False`) seguido de la fila/columna que contiene el NAs."
   ]
  },
  {
   "cell_type": "code",
   "execution_count": 13,
   "id": "transparent-poetry",
   "metadata": {},
   "outputs": [
    {
     "name": "stdout",
     "output_type": "stream",
     "text": [
      "       Unnamed: 0  id_realEstates  isNew  realEstate_name  phone_realEstate  \\\n",
      "0           False           False  False            False             False   \n",
      "1           False           False  False            False             False   \n",
      "2           False           False  False            False             False   \n",
      "3           False           False  False            False             False   \n",
      "4           False           False  False            False             False   \n",
      "...           ...             ...    ...              ...               ...   \n",
      "15330       False           False  False            False             False   \n",
      "15331       False           False  False            False             False   \n",
      "15332       False           False  False            False             False   \n",
      "15333       False           False  False            False             False   \n",
      "15334       False           False  False            False             False   \n",
      "\n",
      "       url_inmueble  rooms  bathrooms  surface  price  ...  level4Id  \\\n",
      "0             False  False      False    False  False  ...     False   \n",
      "1             False  False      False     True  False  ...     False   \n",
      "2             False  False      False    False  False  ...     False   \n",
      "3             False  False      False    False  False  ...     False   \n",
      "4             False  False      False    False  False  ...     False   \n",
      "...             ...    ...        ...      ...    ...  ...       ...   \n",
      "15330         False  False      False    False  False  ...     False   \n",
      "15331         False  False      False    False  False  ...     False   \n",
      "15332         False  False      False    False  False  ...     False   \n",
      "15333         False  False      False    False  False  ...     False   \n",
      "15334         False  False      False    False  False  ...     False   \n",
      "\n",
      "       level5Id  level6Id  level7Id  level8Id  accuracy  latitude  longitude  \\\n",
      "0         False     False     False     False     False     False      False   \n",
      "1         False     False     False     False     False     False      False   \n",
      "2         False     False     False     False     False     False      False   \n",
      "3         False     False     False     False     False     False      False   \n",
      "4         False     False     False     False     False     False      False   \n",
      "...         ...       ...       ...       ...       ...       ...        ...   \n",
      "15330     False     False     False     False     False     False      False   \n",
      "15331     False     False     False     False     False     False      False   \n",
      "15332     False     False     False     False     False     False      False   \n",
      "15333     False     False     False     False     False     False      False   \n",
      "15334     False     False     False     False     False     False      False   \n",
      "\n",
      "       zipCode  customZone  \n",
      "0         True        True  \n",
      "1         True        True  \n",
      "2         True        True  \n",
      "3         True        True  \n",
      "4         True        True  \n",
      "...        ...         ...  \n",
      "15330     True        True  \n",
      "15331     True        True  \n",
      "15332     True        True  \n",
      "15333     True        True  \n",
      "15334     True        True  \n",
      "\n",
      "[15335 rows x 37 columns]\n"
     ]
    }
   ],
   "source": [
    "ds_na = ds.isna()\n",
    "print(ds_na)"
   ]
  },
  {
   "attachments": {},
   "cell_type": "markdown",
   "id": "italic-hydrogen",
   "metadata": {},
   "source": [
    "#### Ejercicio 06. Elimina los NAs del dataset, si aplica (★★☆)\n",
    "\n",
    "Imprima una comparación entre las dimensiones del DataFrame original versus el DataFrame después de las eliminaciones.\n"
   ]
  },
  {
   "cell_type": "code",
   "execution_count": 14,
   "id": "administrative-roads",
   "metadata": {},
   "outputs": [
    {
     "name": "stdout",
     "output_type": "stream",
     "text": [
      "Dimensiones iniciales (15335, 37)\n",
      "Dimensiones finales (15335, 35)\n",
      "Solo elimino filas/columnas si tiene todo NaN\n"
     ]
    }
   ],
   "source": [
    "ds_Nan = ds.dropna(axis=1,how=\"all\")\n",
    "ds_Nan = ds_Nan.dropna(axis=0,how=\"all\")\n",
    "\n",
    "print(\"Dimensiones iniciales {}\".format(ds.shape))\n",
    "print(\"Dimensiones finales {}\".format(ds_Nan.shape))\n",
    "print(\"Solo elimino filas/columnas si tiene todo NaN\")\n"
   ]
  },
  {
   "attachments": {},
   "cell_type": "markdown",
   "id": "middle-china",
   "metadata": {},
   "source": [
    "#### Ejercicio 07. ¿Cuál la media de precios en la población (columna level5) de \"Arroyomolinos (Madrid)\"? (★★☆)\n",
    "\n",
    "Imprima el valor obtenido."
   ]
  },
  {
   "cell_type": "code",
   "execution_count": 15,
   "id": "nuclear-belief",
   "metadata": {},
   "outputs": [
    {
     "name": "stdout",
     "output_type": "stream",
     "text": [
      "La media de precios es de 294542\n"
     ]
    }
   ],
   "source": [
    "ds_arroyo_bool = (ds[\"level5\"] == \"Arroyomolinos (Madrid)\")\n",
    "ds_arroyo = ds[ds_arroyo_bool]\n",
    "\n",
    "print(\"La media de precios es de {}\".format(round(ds_arroyo[\"price\"].mean())))\n"
   ]
  },
  {
   "attachments": {},
   "cell_type": "markdown",
   "id": "concerned-radical",
   "metadata": {},
   "source": [
    "#### Ejercicio 08. Trazar el histograma de los precios para la población (level5 column) de \"Arroyomolinos (Madrid)\" y explica qué observas (★★☆)\n",
    "\n",
    "Imprime el histograma de los precios y escribe en la celda del Markdown un breve análisis del trazado.\n"
   ]
  },
  {
   "cell_type": "code",
   "execution_count": 16,
   "id": "sudden-message",
   "metadata": {},
   "outputs": [
    {
     "data": {
      "image/png": "[encoded data removed]",
      "text/plain": [
       "<Figure size 1000x500 with 1 Axes>"
      ]
     },
     "metadata": {},
     "output_type": "display_data"
    },
    {
     "name": "stdout",
     "output_type": "stream",
     "text": [
      "La gran mayoría se incluyen entre 180000 y 400000 EUR\n"
     ]
    }
   ],
   "source": [
    "import matplotlib.pyplot as plt\n",
    "\n",
    "Price_arroyo = ds_arroyo[\"price\"]\n",
    "plt.figure(figsize = (10, 5))\n",
    "plt.hist(Price_arroyo, bins = 25, alpha = 0.7)\n",
    "plt.title(\"Histograma de los precios en Arroyomolinos\")\n",
    "\n",
    "plt.show()\n",
    "\n",
    "print(\"La gran mayoría se incluyen entre 180000 y 400000 EUR\")"
   ]
  },
  {
   "attachments": {},
   "cell_type": "markdown",
   "id": "impressed-combination",
   "metadata": {},
   "source": [
    "**TODO: Markdown**. Proyecto final del pre-work"
   ]
  },
  {
   "attachments": {},
   "cell_type": "markdown",
   "id": "actual-edinburgh",
   "metadata": {},
   "source": [
    "#### Ejercicio 09. ¿Son los precios promedios de \"Valdemorillo\" y \"Galapagar\" los mismos? (★★☆)\n",
    "\n",
    "Imprime ambos promedios y escribe una conclusión sobre ellos."
   ]
  },
  {
   "cell_type": "code",
   "execution_count": 22,
   "id": "numeric-commerce",
   "metadata": {},
   "outputs": [
    {
     "name": "stdout",
     "output_type": "stream",
     "text": [
      "El precio promedio para Valdemorillo es 363860.29 EUR\n",
      "El precio promedio para VGalapagar es 360063.2 EUR\n",
      "Los precios promedios para ambas poblaciones son similares, con una diferencia de 3797.09 EUR\n"
     ]
    }
   ],
   "source": [
    "precios_09 = ds[[\"price\",\"level5\"]].groupby(\"level5\").mean() #groupby convierte lo usado para agrupar en indice\n",
    "\n",
    "valdemorillo = prices.loc[precios_09.index == \"Valdemorillo\"].iloc[0,0]\n",
    "galapagar = prices.loc[precios_09.index == \"Galapagar\"].iloc[0,0]\n",
    "print(f\"El precio promedio para Valdemorillo es {round(valdemorillo,2)} EUR\")\n",
    "print(f\"El precio promedio para VGalapagar es {round(galapagar,2)} EUR\")\n",
    "\n",
    "print(f\"Los precios promedios para ambas poblaciones son similares, con una diferencia de {round(abs(valdemorillo-galapagar),2)} EUR\")\n"
   ]
  },
  {
   "attachments": {},
   "cell_type": "markdown",
   "id": "lonely-article",
   "metadata": {},
   "source": [
    "#### Ejercicio 10. ¿Son los promedios de precio por metro cuadrado (precio/m2) de \"Valdemorillo\" y \"Galapagar\" los mismos? (★★☆)\n",
    "\n",
    "Imprime ambos promedios de precio por metro cuadrado y escribe una conclusión sobre ellos.\n",
    "\n",
    "Pista: Crea una nueva columna llamada `pps` (*price per square* o precio por metro cuadrado) y luego analiza los valores."
   ]
  },
  {
   "cell_type": "code",
   "execution_count": 147,
   "id": "hourly-globe",
   "metadata": {},
   "outputs": [
    {
     "name": "stdout",
     "output_type": "stream",
     "text": [
      "El precio promedio por m2 en Valdemorillo es 1317.95 EUR\n",
      "El precio promedio por m2 en Galapagar es 1606.32 EUR\n",
      "El precio promedio por m2 en Valdemorillo es menor al precio de Galapagar \n",
      "\n"
     ]
    },
    {
     "name": "stderr",
     "output_type": "stream",
     "text": [
      "/tmp/ipykernel_650/204648373.py:2: SettingWithCopyWarning: \n",
      "A value is trying to be set on a copy of a slice from a DataFrame.\n",
      "Try using .loc[row_indexer,col_indexer] = value instead\n",
      "\n",
      "See the caveats in the documentation: https://pandas.pydata.org/pandas-docs/stable/user_guide/indexing.html#returning-a-view-versus-a-copy\n",
      "  Precioslevel5[\"pps\"] = Precioslevel5[\"price\"]/Precioslevel5[\"surface\"]\n"
     ]
    }
   ],
   "source": [
    "Precioslevel5 = ds[[\"price\",\"surface\",\"level5\"]]\n",
    "Precioslevel5[\"pps\"] = Precioslevel5[\"price\"]/Precioslevel5[\"surface\"]\n",
    "Precios_010 = Precioslevel5.groupby(\"level5\").mean()\n",
    "valdemorillo = Precios_010.loc[Precios_010.index == \"Valdemorillo\",\"pps\"].iloc[0]\n",
    "galapagar = Precios_010.loc[Precios_010.index == \"Galapagar\",\"pps\"].iloc[0]\n",
    "print(f\"El precio promedio por m2 en Valdemorillo es {round(valdemorillo,2)} EUR\")\n",
    "print(f\"El precio promedio por m2 en Galapagar es {round(galapagar,2)} EUR\")\n",
    "print(f\"El precio promedio por m2 en Valdemorillo es menor al precio de Galapagar \\n\")"
   ]
  },
  {
   "attachments": {},
   "cell_type": "markdown",
   "id": "pleasant-invite",
   "metadata": {},
   "source": [
    "#### Ejercicio 11. Analiza la relación entre la superficie y el precio de las casas. (★★☆)\n",
    "\n",
    "Pista: Puedes hacer un `scatter plot` y luego escribir una conclusión al respecto."
   ]
  },
  {
   "cell_type": "code",
   "execution_count": null,
   "id": "common-drilling",
   "metadata": {},
   "outputs": [
    {
     "data": {
      "image/png": "[encoded data removed]",
      "text/plain": [
       "<Figure size 1000x500 with 1 Axes>"
      ]
     },
     "metadata": {},
     "output_type": "display_data"
    }
   ],
   "source": [
    "plt.figure(figsize = (10, 5))\n",
    "\n",
    "precio = ds[\"price\"]\n",
    "superficie = ds[\"surface\"]\n",
    "\n",
    "plt.scatter(superficie,precio)\n",
    "plt.xlabel(\"Precio\")\n",
    "plt.ylabel(\"Superficie\")\n",
    "plt.title(\"Precio / Superficie\")\n",
    "plt.show()"
   ]
  },
  {
   "attachments": {},
   "cell_type": "markdown",
   "id": "ahead-liquid",
   "metadata": {},
   "source": [
    "**TODO: Markdown**. Para escribir aquí, haz doble clic en esta celda, elimina este contenido y coloca lo que quieras escribir. Luego ejecuta la celda."
   ]
  },
  {
   "attachments": {},
   "cell_type": "markdown",
   "id": "coordinate-sunrise",
   "metadata": {},
   "source": [
    "#### Ejercicio 12. ¿Cuántas agencia de bienes raíces contiene el dataset? (★★☆)\n",
    "\n",
    "Imprime el valor obtenido."
   ]
  },
  {
   "cell_type": "code",
   "execution_count": 31,
   "id": "valid-honolulu",
   "metadata": {},
   "outputs": [
    {
     "name": "stdout",
     "output_type": "stream",
     "text": [
      "Hay un total de 1821 agencias\n"
     ]
    }
   ],
   "source": [
    "print(f\"Hay un total de {ds['realEstate_name'].nunique()} agencias\")\n"
   ]
  },
  {
   "attachments": {},
   "cell_type": "markdown",
   "id": "binding-ebony",
   "metadata": {},
   "source": [
    "#### Ejercicio 13. ¿Cuál es la población (columna level5) que contiene la mayor cantidad de casas?(★★☆)\n",
    "\n",
    "Imprima la población y el número de casas."
   ]
  },
  {
   "cell_type": "code",
   "execution_count": 65,
   "id": "static-perry",
   "metadata": {},
   "outputs": [
    {
     "name": "stdout",
     "output_type": "stream",
     "text": [
      "La población con más número de casas es  Madrid Capital con 6643 viviendas\n"
     ]
    }
   ],
   "source": [
    "Pob_casas = ds[\"level5\"].value_counts()\n",
    "Max_casas = Pob_casas.idxmax()\n",
    "Num_max_casas = Pob_casas[Max_casas]\n",
    "\n",
    "\n",
    "print(f\"La población con más número de casas es {Max_casas} con {Num_max_casas} viviendas\")\n"
   ]
  },
  {
   "attachments": {},
   "cell_type": "markdown",
   "id": "entire-classification",
   "metadata": {},
   "source": [
    "#### Ejercicio 14. Ahora vamos a trabajar con el \"cinturón sur\" de Madrid. Haz un subconjunto del DataFrame original que contenga las siguientes poblaciones (columna level5): \"Fuenlabrada\", \"Leganés\", \"Getafe\", \"Alcorcón\" (★★☆)\n",
    "\n",
    "Pista: Filtra el DataFrame original usando la columna `level5` y la función `isin`."
   ]
  },
  {
   "cell_type": "code",
   "execution_count": null,
   "id": "binary-input",
   "metadata": {},
   "outputs": [],
   "source": [
    "Cinturon_Sur = [\"Fuenlabrada\", \"Leganés\", \"Getafe\", \"Alcorcón\"]\n",
    "ds_Cinturon_Sur = ds.loc[ds[\"level5\"].isin(Cinturon_Sur)] #Devuelve serie con booleanos y nombre de la columna"
   ]
  },
  {
   "attachments": {},
   "cell_type": "markdown",
   "id": "severe-fisher",
   "metadata": {},
   "source": [
    "#### Ejercicio 15. Traza un gráfico de barras de la mediana de los precios y explica lo que observas (debes usar el subconjunto obtenido del Ejercicio 14) (★★★)\n",
    "\n",
    "Imprima un gráfico de barras de la mediana de precios y escriba en la celda Markdown un breve análisis sobre el gráfico."
   ]
  },
  {
   "cell_type": "code",
   "execution_count": null,
   "id": "lyric-bunch",
   "metadata": {},
   "outputs": [
    {
     "data": {
      "image/png": "[encoded data removed]",
      "text/plain": [
       "<Figure size 1000x500 with 1 Axes>"
      ]
     },
     "metadata": {},
     "output_type": "display_data"
    }
   ],
   "source": [
    "medianas = ds_Cinturon_Sur[[\"level5\",\"price\"]].groupby(\"level5\").median()\n",
    "\n",
    "plt.figure(figsize = (10, 5))\n",
    "plt.bar(Cinturon_Sur, medianas[\"price\"])\n",
    "plt.title(\"Mediana de los precios\")\n",
    "plt.show()"
   ]
  },
  {
   "attachments": {},
   "cell_type": "markdown",
   "id": "sublime-newspaper",
   "metadata": {},
   "source": [
    "**TODO: Markdown**. Para escribir aquí, haz doble clic en esta celda, elimina este contenido y coloca lo que quieras escribir. Luego ejecuta la celda."
   ]
  },
  {
   "attachments": {},
   "cell_type": "markdown",
   "id": "speaking-diamond",
   "metadata": {},
   "source": [
    "#### Ejercicio 16. Calcula la media y la varianza de muestra para las siguientes variables: precio, habitaciones, superficie y baños (debes usar el subconjunto obtenido del Ejercicio 14) (★★★)\n",
    "\n",
    "Imprime ambos valores por cada variable."
   ]
  },
  {
   "cell_type": "code",
   "execution_count": 71,
   "id": "random-feeling",
   "metadata": {},
   "outputs": [
    {
     "name": "stdout",
     "output_type": "stream",
     "text": [
      "price | media : 223094 y varianza : 14921367508.05\n",
      "rooms | media : 3 y varianza : 0.72\n",
      "surface | media : 112 y varianza : 4263.05\n",
      "bathrooms | media : 2 y varianza : 0.57\n"
     ]
    }
   ],
   "source": [
    "variables_016 = [\"price\", \"rooms\", \"surface\", \"bathrooms\"]\n",
    "\n",
    "for i in variables_016:\n",
    "    media = ds_Cinturon_Sur[i].mean()\n",
    "    varianza = ds_Cinturon_Sur[i].var()\n",
    "    print(f\"{i} | media : {round(media)} y varianza : {round(varianza,2)}\")"
   ]
  },
  {
   "attachments": {},
   "cell_type": "markdown",
   "id": "revolutionary-matrix",
   "metadata": {},
   "source": [
    "#### Ejercicio 17. ¿Cuál es la casa más cara de cada población? Debes usar el subset obtenido en la pregunta 14 (★★☆)\n",
    "\n",
    "Imprime tanto la dirección como el precio de la casa seleccionada de cada población. Puedes imprimir un DataFrame o una sola línea para cada población."
   ]
  },
  {
   "cell_type": "code",
   "execution_count": 117,
   "id": "fifteen-browse",
   "metadata": {},
   "outputs": [
    {
     "name": "stdout",
     "output_type": "stream",
     "text": [
      "La casa más cara en la población de Fuenlabrada tiene la dirección Urbanización Urbanización Parque Miraflores, 51, Fuenlabrada y su precio es de 490000 EUR\n",
      "La casa más cara en la población de Leganés tiene la dirección Plaza Pza España, Gran Oportunidad!!!, Leganés y su precio es de 650000 EUR\n",
      "La casa más cara en la población de Getafe tiene la dirección San Sebastián, 1, Getafe y su precio es de 1050000 EUR\n",
      "La casa más cara en la población de Alcorcón tiene la dirección Travesia Nuncio del, Alcorcón y su precio es de 950000 EUR\n"
     ]
    }
   ],
   "source": [
    "for poblacion in Cinturon_Sur:\n",
    "    PrecioMaxPob = ds_Cinturon_Sur[[\"price\",\"address\",\"level5\"]].loc[ds_Cinturon_Sur[\"level5\"]==poblacion].max()\n",
    "    a = PrecioMaxPob[\"address\"]\n",
    "    p = PrecioMaxPob[\"price\"]\n",
    "    print(f\"La casa más cara en la población de {poblacion} tiene la dirección {a} y su precio es de {p} EUR\")"
   ]
  },
  {
   "attachments": {},
   "cell_type": "markdown",
   "id": "activated-knight",
   "metadata": {},
   "source": [
    "#### Ejercicio 18. Normaliza la variable de precios para cada población y traza los 4 histogramas en el mismo gráfico (debes usar el subconjunto obtenido en la pregunta 14) (★★★)\n",
    "\n",
    "Para el método de normalización, puedes usar el que consideres adecuado, no hay una única respuesta correcta para esta pregunta. Imprime el gráfico y escribe en la celda de Markdown un breve análisis sobre el gráfico.\n",
    "\n",
    "Pista: Puedes ayudarte revisando la demostración multihist de Matplotlib."
   ]
  },
  {
   "cell_type": "markdown",
   "id": "24f9ee5a",
   "metadata": {},
   "source": [
    "for i in x:\n",
    "    plt.hist(x[i][\"price\"], bins = 25, alpha = 0.7)\n",
    "    \n",
    "plt.figure(figsize = (10, 5))\n",
    "plt.title(\"Multihistograma del cinturón sur\")\n",
    "plt.legend(loc='upper right')\n",
    "plt.show()\n",
    "\n",
    "plt.figure(figsize = (10, 5))\n",
    "plt.title(\"Multihistograma del cinturón sur\")\n",
    "plt.legend(loc='upper right')\n",
    "\n",
    "for i in x:\n",
    "    plt.hist(x[i][\"price\"], bins = 25, alpha = 0.7)\n",
    "plt.show()"
   ]
  },
  {
   "cell_type": "code",
   "execution_count": null,
   "id": "civic-meditation",
   "metadata": {},
   "outputs": [
    {
     "name": "stderr",
     "output_type": "stream",
     "text": [
      "/tmp/ipykernel_650/2999162606.py:4: SettingWithCopyWarning: \n",
      "A value is trying to be set on a copy of a slice from a DataFrame.\n",
      "Try using .loc[row_indexer,col_indexer] = value instead\n",
      "\n",
      "See the caveats in the documentation: https://pandas.pydata.org/pandas-docs/stable/user_guide/indexing.html#returning-a-view-versus-a-copy\n",
      "  ds_Cinturon_Sur_N[\"price\"] = (ds_Cinturon_Sur_N[\"price\"]-ds_Cinturon_Sur_N[\"price\"].mean())/(ds_Cinturon_Sur_N[\"price\"].std())\n",
      "/tmp/ipykernel_650/2999162606.py:15: UserWarning: No artists with labels found to put in legend.  Note that artists whose label start with an underscore are ignored when legend() is called with no argument.\n",
      "  plt.legend(loc='upper right')\n"
     ]
    },
    {
     "data": {
      "image/png": "[encoded data removed]",
      "text/plain": [
       "<Figure size 1000x500 with 1 Axes>"
      ]
     },
     "metadata": {},
     "output_type": "display_data"
    }
   ],
   "source": [
    "\n",
    "import matplotlib.pyplot as plt\n",
    "\n",
    "ds_Cinturon_Sur_N = ds_Cinturon_Sur[[\"price\",\"level5\"]]\n",
    "ds_Cinturon_Sur_N[\"price\"] = (ds_Cinturon_Sur_N[\"price\"]-ds_Cinturon_Sur_N[\"price\"].mean())/(ds_Cinturon_Sur_N[\"price\"].std())\n",
    "\n",
    "Cinturon_Sur = [\"Fuenlabrada\", \"Leganés\", \"Getafe\", \"Alcorcón\"]\n",
    "\n",
    "x = []\n",
    "\n",
    "for ciudad in Cinturon_Sur:\n",
    "    x.append(ds_Cinturon_Sur_N.loc[ds_Cinturon_Sur_N[\"level5\"]==ciudad])\n",
    "\n",
    "plt.figure(figsize = (10, 5))\n",
    "plt.title(\"Multihistograma del cinturón sur\")\n",
    "\n",
    "for i in range(len(x)):\n",
    "    plt.hist(x[i][\"price\"], bins = 25, alpha = 0.7)\n",
    "plt.show()"
   ]
  },
  {
   "attachments": {},
   "cell_type": "markdown",
   "id": "precise-heavy",
   "metadata": {},
   "source": [
    "**TODO: Markdown**. Para escribir aquí, haz doble clic en esta celda, elimina este contenido y coloca lo que quieras escribir. Luego ejecuta la celda."
   ]
  },
  {
   "attachments": {},
   "cell_type": "markdown",
   "id": "patent-jonathan",
   "metadata": {},
   "source": [
    "#### Ejercicio 19. ¿Qué puedes decir sobre el precio por metro cuadrado (precio/m2) entre los municipios de 'Getafe' y 'Alcorcón'? Debes usar el subconjunto obtenido en la pregunta 14 (★★☆)\n",
    "\n",
    "Pista: Crea una nueva columna llamada `pps` (price per square en inglés) y luego analiza los valores"
   ]
  },
  {
   "cell_type": "code",
   "execution_count": 127,
   "id": "initial-liverpool",
   "metadata": {},
   "outputs": [
    {
     "name": "stdout",
     "output_type": "stream",
     "text": [
      "El precio por metro cuadrado en Getafe es 2066.31 EUR\n",
      "El precio por metro cuadrado en es 2239.3 EUR\n",
      "Se puede concluir que el precio en Getafe es inferior al precio en Alcorcón, con una diferencia de 173 EUR \n",
      "\n"
     ]
    },
    {
     "name": "stderr",
     "output_type": "stream",
     "text": [
      "/tmp/ipykernel_650/399683644.py:2: SettingWithCopyWarning: \n",
      "A value is trying to be set on a copy of a slice from a DataFrame.\n",
      "Try using .loc[row_indexer,col_indexer] = value instead\n",
      "\n",
      "See the caveats in the documentation: https://pandas.pydata.org/pandas-docs/stable/user_guide/indexing.html#returning-a-view-versus-a-copy\n",
      "  Precios_level5[\"pps\"] = Precios_level5[\"price\"]/Precios_level5[\"surface\"]\n"
     ]
    }
   ],
   "source": [
    "Precios_level5 = ds_Cinturon_Sur[[\"price\",\"surface\",\"level5\"]]\n",
    "Precios_level5[\"pps\"] = Precios_level5[\"price\"]/Precios_level5[\"surface\"]\n",
    "Precios_019 = Precios_level5.groupby(\"level5\").mean()\n",
    "getafe = Precios_019.loc[Precios_019.index == \"Getafe\",\"pps\"].iloc[0]\n",
    "alcorcon = Precios_019.loc[Precios_019.index == \"Alcorcón\",\"pps\"].iloc[0]\n",
    "print(f\"El precio por metro cuadrado en Getafe es {round(getafe,2)} EUR\")\n",
    "print(f\"El precio por metro cuadrado en es {round(alcorcon,2)} EUR\")\n",
    "print(f\"Se puede concluir que el precio en Getafe es inferior al precio en Alcorcón, con una diferencia de {round(alcorcon-getafe)} EUR \\n\")\n"
   ]
  },
  {
   "attachments": {},
   "cell_type": "markdown",
   "id": "enhanced-moscow",
   "metadata": {},
   "source": [
    "#### Ejercicio 20. Realiza el mismo gráfico para 4 poblaciones diferentes (columna level5) y colócalos en el mismo gráfico. Debes usar el subconjunto obtenido en la pregunta 14 (★★☆) \n",
    "Pista: Haz un diagrama de dispersión de cada población usando subgráficos (subplots)."
   ]
  },
  {
   "cell_type": "code",
   "execution_count": 77,
   "id": "accepting-airfare",
   "metadata": {},
   "outputs": [
    {
     "data": {
      "image/png": "[encoded data removed]",
      "text/plain": [
       "<Figure size 640x480 with 1 Axes>"
      ]
     },
     "metadata": {},
     "output_type": "display_data"
    }
   ],
   "source": [
    "import matplotlib.pyplot as plt\n",
    "\n",
    "y1 = ds_Cinturon_Sur.loc[ds_Cinturon_Sur[\"level5\"] == \"Fuenlabrada\"][\"price\"]\n",
    "y2 = ds_Cinturon_Sur.loc[ds_Cinturon_Sur[\"level5\"] == \"Leganés\"][\"price\"]\n",
    "y3 = ds_Cinturon_Sur.loc[ds_Cinturon_Sur[\"level5\"] == \"Getafe\"][\"price\"]\n",
    "y4 = ds_Cinturon_Sur.loc[ds_Cinturon_Sur[\"level5\"] == \"Alcorcón\"][\"price\"]\n",
    "\n",
    "X1 = ds_Cinturon_Sur.loc[ds_Cinturon_Sur[\"level5\"] == \"Fuenlabrada\"][\"surface\"]\n",
    "X2 = ds_Cinturon_Sur.loc[ds_Cinturon_Sur[\"level5\"] == \"Leganés\"][\"surface\"]\n",
    "X3 = ds_Cinturon_Sur.loc[ds_Cinturon_Sur[\"level5\"] == \"Getafe\"][\"surface\"]\n",
    "X4 = ds_Cinturon_Sur.loc[ds_Cinturon_Sur[\"level5\"] == \"Alcorcón\"][\"surface\"]\n",
    "\n",
    "plt.figure()\n",
    "plt.scatter(X1, y1, label=\"Fuenlabrada\")\n",
    "plt.scatter(X2, y2, label=\"Leganés\")\n",
    "plt.scatter(X3, y3, label=\"Getafe\")\n",
    "plt.scatter(X4, y4, label=\"Alcorcón\")\n",
    "plt.xlabel(\"Superficie\")\n",
    "plt.ylabel(\"Precio\")\n",
    "plt.legend()\n",
    "plt.title(\"Precio / m2 en el cinturón sur\")\n",
    "plt.show()"
   ]
  },
  {
   "attachments": {},
   "cell_type": "markdown",
   "id": "blocked-effects",
   "metadata": {},
   "source": [
    "#### Ejercicio 21. Realiza un trazado de las coordenadas (columnas latitud y longitud) del cinturón sur de Madrid por color de cada población (debes usar el subconjunto obtenido del Ejercicio 14) (★★★★)\n",
    "\n",
    "Ejecuta la siguiente celda y luego comienza a codear en la siguiente. Debes implementar un código simple que transforme las columnas de coordenadas en un diccionario de Python (agrega más información si es necesario) y agrégala al mapa."
   ]
  },
  {
   "cell_type": "code",
   "execution_count": null,
   "id": "headed-privacy",
   "metadata": {},
   "outputs": [
    {
     "data": {
      "text/plain": [
       "'from ipyleaflet import Map, basemaps\\n\\n# Map centered on (60 degrees latitude and -2.2 degrees longitude)\\n# Latitude, longitude\\nmap = Map(center = (60, -2.2), zoom = 2, min_zoom = 1, max_zoom = 20, \\n    basemap=basemaps.Stamen.Terrain)\\nmap'"
      ]
     },
     "execution_count": 143,
     "metadata": {},
     "output_type": "execute_result"
    }
   ],
   "source": [
    "\"\"\"from ipyleaflet import Map, basemaps\n",
    "\n",
    "# Map centered on (60 degrees latitude and -2.2 degrees longitude)\n",
    "# Latitude, longitude\n",
    "map = Map(center = (60, -2.2), zoom = 2, min_zoom = 1, max_zoom = 20, \n",
    "    basemap=basemaps.Stamen.Terrain)\n",
    "map\"\"\""
   ]
  },
  {
   "cell_type": "code",
   "execution_count": 99,
   "id": "1ce76469",
   "metadata": {},
   "outputs": [
    {
     "data": {
      "application/vnd.jupyter.widget-view+json": {
       "model_id": "cd8c84be8f32417ea81b3347c60476c3",
       "version_major": 2,
       "version_minor": 0
      },
      "text/plain": [
       "Map(center=[40.312025, -3.800077], controls=(ZoomControl(options=['position', 'zoom_in_text', 'zoom_in_title',…"
      ]
     },
     "execution_count": 142,
     "metadata": {},
     "output_type": "execute_result"
    }
   ],
   "source": [
    "from ipyleaflet import Map, basemaps,Circle\n",
    "\n",
    "\n",
    "poblaciones = [\"Fuenlabrada\",\"Leganés\",\"Getafe\",\"Alcorcón\"]\n",
    "colores = [\"blue\",\"green\",\"orange\",\"purple\"]\n",
    "Coordenadas_Cinturon_Sur = {}\n",
    "\n",
    "\n",
    "for poblacion in poblaciones:\n",
    "    Coordenadas = []\n",
    "    for i in ds_Cinturon_Sur.loc[ds_Cinturon_Sur[\"level5\"] == poblacion].index:\n",
    "        a = float(ds_Cinturon_Sur.loc[ds_Cinturon_Sur[\"level5\"] == poblacion][[\"latitude\"]].loc[i,\"latitude\"].replace(\",\",\".\"))\n",
    "        b = float(ds_Cinturon_Sur.loc[ds_Cinturon_Sur[\"level5\"] == poblacion][[\"longitude\"]].loc[i,\"longitude\"].replace(\",\",\".\"))\n",
    "        Coordenadas.append((a,b))\n",
    "    Coordenadas_Cinturon_Sur[poblacion] = Coordenadas\n",
    "\n",
    "map2 = Map(center = (40.312025, -3.800077), zoom = 12, min_zoom = 1, max_zoom = 20, basemap=basemaps.OpenStreetMap.Mapnik)\n",
    "\n",
    "for i in range(len(poblaciones)):\n",
    "    for k in Coordenadas_Cinturon_Sur[poblaciones[i]]:\n",
    "        circle = Circle()\n",
    "        circle.location = k\n",
    "        circle.radius = 50\n",
    "        circle.color = colores[i]\n",
    "        circle.fill_color = colores[i]\n",
    "        map2.add(circle)\n",
    "\n",
    "map2"
   ]
  }
 ],
 "metadata": {
  "kernelspec": {
   "display_name": "Python 3",
   "language": "python",
   "name": "python3"
  },
  "language_info": {
   "codemirror_mode": {
    "name": "ipython",
    "version": 3
   },
   "file_extension": ".py",
   "mimetype": "text/x-python",
   "name": "python",
   "nbconvert_exporter": "python",
   "pygments_lexer": "ipython3",
   "version": "3.11.4"
  }
 },
 "nbformat": 4,
 "nbformat_minor": 5
}
